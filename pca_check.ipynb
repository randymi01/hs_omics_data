{
 "cells": [
  {
   "cell_type": "code",
   "execution_count": null,
   "metadata": {},
   "outputs": [],
   "source": [
    "# test reading in 10x data with AnnData\n",
    "import pandas as pd\n",
    "import numpy as np\n",
    "import scanpy as sc\n",
    "from glob import glob\n",
    "import os\n",
    "import scvi\n",
    "import pickle\n",
    "from scipy import sparse\n",
    "import anndata as ad\n",
    "import itertools\n",
    "\n",
    "from matplotlib import pyplot as plt\n",
    "import seaborn as sns\n",
    "sns.set_palette(sns.color_palette(\"Spectral\"))\n",
    "sns.set_style(\"whitegrid\")\n",
    "\n",
    "from matplotlib.ticker import StrMethodFormatter\n",
    "# ax.xaxis.set_major_formatter(StrMethodFormatter(\"{x:.2f}\"))\n",
    "\n",
    "import requests\n",
    "from tqdm import tqdm\n",
    "\n",
    "data_dir = \"data\"\n",
    "adata = sc.read_h5ad('combined_hs_counts_old_portal.h5ad')\n",
    "sc.pp.normalize_total(adata)\n",
    "sc.pp.log1p(adata)\n",
    "\n",
    "sc.pp.highly_variable_genes(\n",
    "        adata,\n",
    "        flavor = \"seurat\",\n",
    "        n_top_genes = 3000\n",
    "        batch_key = 'GSM'\n",
    "    )\n",
    "\n",
    "sc.pp.pca(adata)\n",
    "print(\"total variance explained: \",adata.uns['pca']['variance_ratio'].sum())\n",
    "sc.pl.pca_variance_ratio(adata)"
   ]
  }
 ],
 "metadata": {
  "kernelspec": {
   "display_name": "Python 3",
   "language": "python",
   "name": "python3"
  },
  "language_info": {
   "codemirror_mode": {
    "name": "ipython",
    "version": 3
   },
   "file_extension": ".py",
   "mimetype": "text/x-python",
   "name": "python",
   "nbconvert_exporter": "python",
   "pygments_lexer": "ipython3",
   "version": "3.11.4"
  }
 },
 "nbformat": 4,
 "nbformat_minor": 2
}
