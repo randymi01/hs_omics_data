{
 "cells": [
  {
   "cell_type": "code",
   "execution_count": 3,
   "metadata": {},
   "outputs": [],
   "source": [
    "# test reading in 10x data with AnnData\n",
    "import pandas as pd\n",
    "import numpy as np\n",
    "import scanpy as sc\n",
    "from glob import glob\n",
    "import os\n",
    "import pickle\n",
    "from scipy import sparse\n",
    "import anndata as ad\n",
    "import scrublet as scr\n",
    "\n",
    "from matplotlib import pyplot as plt\n",
    "import seaborn as sns\n",
    "sns.set_palette(sns.color_palette(\"Spectral\"))\n",
    "sns.set_style(\"whitegrid\")\n",
    "\n",
    "from matplotlib.ticker import StrMethodFormatter\n",
    "# ax.xaxis.set_major_formatter(StrMethodFormatter(\"{x:.2f}\"))\n",
    "\n",
    "import requests\n",
    "from tqdm import tqdm\n",
    "\n",
    "data_dir = \"C:/Users/randymi/Desktop/seuratwork/data\"\n",
    "\n",
    "# data_dir = \"/share/studies/Dermatology_Data/HS_Data_Portal/scanpy_seq/data/\"\n",
    "\n",
    "gsm_dict = {}\n",
    "\n",
    "for root, folders, _ in os.walk(data_dir):\n",
    "    for i in folders:\n",
    "        if i.startswith(\"GSM\"):\n",
    "            gsm_dict[i.split(\"_\")[0]] = os.path.join(root,i)\n",
    "\n",
    "# linux has different delimiters:\n",
    "def detect_delimiter(path):\n",
    "    if '/' in path:\n",
    "        return '/'\n",
    "    elif '\\\\' in path:\n",
    "        return '\\\\'\n",
    "    else:\n",
    "        return None  # No delimiter found\n",
    "\n",
    "\n",
    "gse_dict = {key : value.split(detect_delimiter(value))[1] for key, value in gsm_dict.items()}\n",
    "\n",
    "# returns full path from GSM number\n",
    "def gsm_path(gsm):\n",
    "    return gsm_dict[\"GSM\" + str(gsm)]"
   ]
  },
  {
   "cell_type": "code",
   "execution_count": 28,
   "metadata": {},
   "outputs": [],
   "source": [
    "df = pd.read_excel(\"../sample_list_healthy.xlsx\")\n",
    "\n",
    "hc_gsm = df.loc[df['HC Data'],[\"GSE\",\"GSM\"]]\n",
    "\n",
    "hc_gs_zip = list(zip(list(hc_gsm.to_dict()['GSE'].values()), list(hc_gsm.to_dict()['GSM'].values())))"
   ]
  },
  {
   "cell_type": "code",
   "execution_count": 30,
   "metadata": {},
   "outputs": [],
   "source": [
    "# reads in a dir from GSM, returns adata\n",
    "def read_dir(gse_code, gsm_code):\n",
    "\n",
    "    data_path = gsm_path(gsm_code[3:])\n",
    "\n",
    "    matrix_path = os.path.join(data_path, 'matrix.mtx')\n",
    "    barcodes_path = os.path.join(data_path, 'barcodes.tsv')\n",
    "    features_path = os.path.join(data_path, 'features.tsv')\n",
    "    \n",
    "    adata = sc.read_mtx(matrix_path)\n",
    "    adata_bc = pd.read_csv(barcodes_path, header=None, delimiter = \"\\t\")\n",
    "    adata_features = pd.read_csv(features_path, header=None, delimiter = '\\t')\n",
    "    \n",
    "    adata = adata.T\n",
    "\n",
    "    adata.obs['cell_id'] = adata_bc[0].values\n",
    "\n",
    "    # gene ids\n",
    "    adata.var['symbol'] = adata_features[1].values\n",
    "\n",
    "    # make ensembl id the gene index since it is unique\n",
    "    adata.var_names = adata_features[0].values\n",
    "\n",
    "    # Each cell gets unique name\n",
    "    adata.obs_names = [f\"cell_{i:d}\" for i in range(adata.n_obs)]\n",
    "    \n",
    "    adata.obs[\"GSM\"] = gsm_code[3:]\n",
    "\n",
    "    # GSE is batch key\n",
    "    adata.obs[\"batch\"] = gse_code[3:]\n",
    "    \n",
    "    return adata\n",
    "\n",
    "\n",
    "def before_scrublet_step(gsm):\n",
    "    # preprocess healthy data\n",
    "\n",
    "    adata = read_dir(gsm)\n",
    "\n",
    "    # mitochondrial genes\n",
    "    adata.var[\"mt\"] = adata.var[\"symbol\"].str.startswith(\"MT-\")\n",
    "\n",
    "    # ribosomal genes\n",
    "    adata.var[\"ribo\"] = adata.var[\"symbol\"].str.startswith((\"RPS\",\"RPL\"))\n",
    "\n",
    "    # hemoglobin genes\n",
    "    adata.var[\"hb\"] = adata.var[\"symbol\"].str.contains(\"^HB[^(P)]\")\n",
    "\n",
    "    # calculate qc metrics\n",
    "    sc.pp.calculate_qc_metrics(\n",
    "    adata,\n",
    "    qc_vars = [\"mt\",\"ribo\",\"hb\"],\n",
    "    inplace = True,\n",
    "    )\n",
    "\n",
    "    # filter cells and genes\n",
    "    sc.pp.filter_cells(adata, min_genes = 300)\n",
    "\n",
    "    # remove cells with mitocondrial dna > 20%\n",
    "    adata = adata[adata.obs[\"pct_counts_mt\"] < 20]\n",
    "\n",
    "    # remove cells with ribosomal dna > 55%\n",
    "    adata = adata[adata.obs[\"pct_counts_ribo\"] < 55]\n",
    "\n",
    "    # remove genes with less than 3 cells\n",
    "    sc.pp.filter_genes(adata, min_cells = 3)\n",
    "\n",
    "    return adata\n",
    "\n",
    "\n",
    "def post_scrublet_step(adata):\n",
    "    # moved these steps to after scrublet since they might be removing doublets\n",
    "    sc.pp.filter_cells(adata, max_genes = 6000)\n",
    "\n",
    "    # remove cells with rna counts > 40000\n",
    "    adata = adata[adata.obs[\"total_counts\"] < 40000]\n",
    "\n"
   ]
  },
  {
   "cell_type": "code",
   "execution_count": 35,
   "metadata": {},
   "outputs": [
    {
     "data": {
      "text/plain": [
       "'C:/Users/randymi/Desktop/seuratwork/data\\\\GSE173706\\\\GSM5277170_NS-AR001'"
      ]
     },
     "execution_count": 35,
     "metadata": {},
     "output_type": "execute_result"
    }
   ],
   "source": [
    "# for samples from GSE173706, they are csv so must be read in differenctly\n",
    "gsm_path(\"5277170\")"
   ]
  },
  {
   "cell_type": "code",
   "execution_count": 34,
   "metadata": {},
   "outputs": [
    {
     "data": {
      "text/plain": [
       "('GSE173706', 'GSM5277170')"
      ]
     },
     "execution_count": 34,
     "metadata": {},
     "output_type": "execute_result"
    }
   ],
   "source": [
    "hc_gs_zip[0]"
   ]
  },
  {
   "cell_type": "code",
   "execution_count": null,
   "metadata": {},
   "outputs": [],
   "source": [
    "\n",
    "\n",
    "# remove doublets using scanpy.pp.scrublet\n",
    "# set expected doublet rate according to number of cells recovered on the 10x site\n",
    "sc.pp.scrublet(adata, verbose=True, expected_doublet_rate = 0.05)\n",
    "\n",
    "\n",
    "\n",
    "# run scrublet "
   ]
  },
  {
   "cell_type": "code",
   "execution_count": null,
   "metadata": {},
   "outputs": [],
   "source": [
    "def chunk_list(lst, n):\n",
    "    return [lst[i:i + n] for i in range(0, len(lst), n)]\n",
    "\n",
    "# takes list of gsm codes, loop merge pickles three at a time\n",
    "def merge_anndata(codes):\n",
    "    first_chunk = True\n",
    "    chunk_size = 3\n",
    "    for chunk in tqdm(chunk_list(codes, chunk_size)):\n",
    "        adatas = []\n",
    "        for code in chunk:\n",
    "            with open('preprocessing/pickles/{}.pkl'.format(str(code)), 'rb') as File:\n",
    "                adatas.append(pickle.load(File))\n",
    "        if not first_chunk:\n",
    "            adatas.append(combined_adata)\n",
    "        \n",
    "        combined_adata = ad.concat(\n",
    "                adatas,\n",
    "                axis=0,\n",
    "                join='outer'\n",
    "        )\n",
    "        \n",
    "        first_chunk = False\n",
    "    return combined_adata"
   ]
  }
 ],
 "metadata": {
  "kernelspec": {
   "display_name": "scanpy-env",
   "language": "python",
   "name": "python3"
  },
  "language_info": {
   "codemirror_mode": {
    "name": "ipython",
    "version": 3
   },
   "file_extension": ".py",
   "mimetype": "text/x-python",
   "name": "python",
   "nbconvert_exporter": "python",
   "pygments_lexer": "ipython3",
   "version": "3.11.7"
  }
 },
 "nbformat": 4,
 "nbformat_minor": 2
}
